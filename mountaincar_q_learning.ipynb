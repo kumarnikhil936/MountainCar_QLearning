{
 "cells": [
  {
   "cell_type": "markdown",
   "metadata": {},
   "source": [
    "# Manually updating the Q value"
   ]
  },
  {
   "cell_type": "code",
   "execution_count": null,
   "metadata": {
    "ExecuteTime": {
     "end_time": "2019-06-06T15:00:12.473386Z",
     "start_time": "2019-06-06T15:00:12.469511Z"
    }
   },
   "outputs": [],
   "source": [
    "import gym\n",
    "import numpy as np"
   ]
  },
  {
   "cell_type": "code",
   "execution_count": null,
   "metadata": {
    "ExecuteTime": {
     "end_time": "2019-06-06T15:00:12.791737Z",
     "start_time": "2019-06-06T15:00:12.728921Z"
    }
   },
   "outputs": [],
   "source": [
    "env = gym.make(\"MountainCar-v0\")  # a very simple application\n",
    "done = False\n",
    "\n",
    "# Resets the state of the environment and returns an initial observation.\n",
    "env.reset()  # 2 observables - position and velocity\n",
    "\n",
    "# number of allowed actions  - 3: left push, no movement, right push\n",
    "# print(env.action_space.n)\n",
    "\n",
    "# there are only two observables - position and velocity\n",
    "# print(env.observation_space.high)  # the high values of the observations\n",
    "# print(env.observation_space.low)  # the low values\n",
    "\n",
    "# the range of values for observation 1 is 0.6 to -1.2\n",
    "# and similarly for observation 2 its 0.07 to -0.07\n",
    "# we can segregate the values in 20 chunks (can be any value)\n",
    "\n",
    "DISCRETE_OBSERVATION_SPACE_SIZE = [\n",
    "    20] * len(env.observation_space.high)  # will give out 20*20 list\n",
    "\n",
    "# see how big is the range for each of the 20 different buckets\n",
    "discrete_os_win_size = (env.observation_space.high -\n",
    "                        env.observation_space.low) / DISCRETE_OBSERVATION_SPACE_SIZE\n",
    "\n",
    "LEARNING_RATE = 0.1\n",
    "DISCOUNT = 0.95  # how important we find the new future actions are ; future reward over current reward\n",
    "EPISODES = 20000\n",
    "render = False\n",
    "\n",
    "# even though the solution might have been found, we still wish to look for other solutions\n",
    "epsilon = 0.5  # 0-1 ; higher it is, more likely for it to perform something random action\n",
    "START_EPSILON_DECAYING = 1\n",
    "# python2 style division - gives only int values\n",
    "END_EPSILON_DECAYING = EPISODES // 2\n",
    "epsilon_decay_value = epsilon / (END_EPSILON_DECAYING - START_EPSILON_DECAYING)\n",
    "\n",
    "# Q learning\n",
    "# so we will have now a table such that each row will have 400 (20*20) rows for the possible state the agent can be in\n",
    "# and 3 columns for the 3 possible actions\n",
    "# the agent will see which state it is in and take the action corresponding to the largest Q value\n",
    "\n",
    "# Create a randomised q_table and agent will update it after exploring the environment\n",
    "q_table = np.random.uniform(\n",
    "    low=-2, high=0, size=(DISCRETE_OBSERVATION_SPACE_SIZE + [env.action_space.n]))\n",
    "\n",
    "# how to set low and high limits of rewards ? - if you see the rewards printed in below cell, they are mostly -1 and\n",
    "# might be something +ve only when you reach goal. Needs tweaking and playing around\n",
    "# print(q_table.shape)\n",
    "\n",
    "\n",
    "def get_discrete_state(state):\n",
    "    discrete_state = (state - env.observation_space.low) / discrete_os_win_size\n",
    "    return tuple(discrete_state.astype(np.int))  # return as tuple\n",
    "\n",
    "\n",
    "# # get Q value of this discrete state\n",
    "# print(q_table[discrete_state])\n",
    "\n",
    "# # print action corresponding to the max Q value\n",
    "# print(np.argmax(q_table[discrete_state]))\n",
    "\n",
    "# # print the max q-value for that state\n",
    "# print(np.max(q_table[discrete_state]))\n"
   ]
  },
  {
   "cell_type": "code",
   "execution_count": null,
   "metadata": {
    "ExecuteTime": {
     "end_time": "2019-06-06T15:00:48.592510Z",
     "start_time": "2019-06-06T15:00:13.200633Z"
    }
   },
   "outputs": [],
   "source": [
    "for ep in range(EPISODES):\n",
    "    done = False\n",
    "    discrete_state = get_discrete_state(env.reset())  # initial discrete state\n",
    "\n",
    "    if ep % 500 == 0:\n",
    "        render = True\n",
    "    else:\n",
    "        render = False\n",
    "        env.close()\n",
    "\n",
    "\n",
    "    while not done:  # goal reached means reward = 0\n",
    "\n",
    "        if np.random.random() > epsilon:\n",
    "            # in this environment, 0 means push the car left, 1 means to do nothing, 2 means to push it right\n",
    "            action = np.argmax(q_table[discrete_state])\n",
    "        else:\n",
    "            action = np.random.randint(0, env.action_space.n)\n",
    "\n",
    "        # Run one timestep of the environment's dynamics;  returns a tuple (observation, reward, done, info).\n",
    "        new_state, reward, done, _ = env.step(action)\n",
    "\n",
    "        new_discrete_state = get_discrete_state(new_state)\n",
    "\n",
    "        if render:\n",
    "            env.render()\n",
    "\n",
    "        if not done:\n",
    "            # max q value for the next state calculated above\n",
    "            max_future_q = np.max(q_table[new_discrete_state])\n",
    "\n",
    "            # q value for the current action and state\n",
    "            current_q = q_table[discrete_state + (action, )]\n",
    "\n",
    "            new_q = (1 - LEARNING_RATE) * current_q + \\\n",
    "                LEARNING_RATE * (reward + DISCOUNT * max_future_q)\n",
    "\n",
    "            # based on the new q, we update the current Q value\n",
    "            q_table[discrete_state + (action, )] = new_q\n",
    "\n",
    "        # goal reached; reward = 0 and no more negative\n",
    "        elif new_state[0] >= env.goal_position:\n",
    "            print((\"Goal reached at {} episode\".format(ep)))\n",
    "            # its like a snowbal effect, once the goal is reached - it will most likely reach again soon enough\n",
    "            q_table[discrete_state + (action, )] = 0\n",
    "\n",
    "        discrete_state = new_discrete_state\n",
    "\n",
    "    if END_EPSILON_DECAYING >= ep >= START_EPSILON_DECAYING:\n",
    "        epsilon -= epsilon_decay_value\n",
    "\n",
    "env.close()"
   ]
  },
  {
   "cell_type": "code",
   "execution_count": null,
   "metadata": {
    "ExecuteTime": {
     "end_time": "2019-06-02T08:33:14.619136Z",
     "start_time": "2019-06-02T08:33:14.609466Z"
    }
   },
   "outputs": [],
   "source": []
  },
  {
   "cell_type": "markdown",
   "metadata": {},
   "source": [
    "# Using neural network"
   ]
  },
  {
   "attachments": {
    "image.png": {
     "image/png": "[encoded data removed]"
    }
   },
   "cell_type": "markdown",
   "metadata": {},
   "source": [
    "\n",
    "![image.png](attachment:image.png)\n",
    "\n",
    "The portion inside the brackets becomes the loss function for our neural network where Q(st,at) is the output of our network and rt + γ max Q(st+1,at+1) is the target Q value as well as the label for our neural net turning the problem into a supervised learning problem solvable using gradient descent where α is our learning rate.\n",
    "\n"
   ]
  },
  {
   "cell_type": "markdown",
   "metadata": {
    "ExecuteTime": {
     "end_time": "2019-06-03T11:43:10.047281Z",
     "start_time": "2019-06-03T11:43:06.455139Z"
    }
   },
   "source": [
    "Using a single layer and 200 hidden unit network to learn the policy."
   ]
  },
  {
   "cell_type": "code",
   "execution_count": null,
   "metadata": {
    "ExecuteTime": {
     "end_time": "2019-06-06T14:37:10.166445Z",
     "start_time": "2019-06-06T14:37:10.162728Z"
    }
   },
   "outputs": [],
   "source": [
    "import torch\n",
    "from torch import nn, optim\n",
    "from torch.autograd import Variable\n",
    "import gym\n",
    "import numpy as np"
   ]
  },
  {
   "cell_type": "code",
   "execution_count": null,
   "metadata": {
    "ExecuteTime": {
     "end_time": "2019-06-03T11:53:05.032533Z",
     "start_time": "2019-06-03T11:53:05.025838Z"
    }
   },
   "outputs": [],
   "source": []
  },
  {
   "cell_type": "code",
   "execution_count": null,
   "metadata": {
    "ExecuteTime": {
     "end_time": "2019-06-06T14:37:11.159505Z",
     "start_time": "2019-06-06T14:37:11.149950Z"
    }
   },
   "outputs": [],
   "source": [
    "class policy(nn.Module):\n",
    "    def __init__(self):\n",
    "        super(policy, self).__init__()\n",
    "        self.state_space = env.observation_space.shape[0]\n",
    "        self.action_space = env.action_space.n\n",
    "        self.hidden = 200 # num of hidden units \n",
    "        self.l1 = nn.Linear(self.state_space, self.hidden, bias=False) # input layer to hidden layer \n",
    "        self.l2 = nn.Linear(self.hidden, self.action_space, bias=False)  # hidden layer to output layer\n",
    "        \n",
    "    def forward(self, x):\n",
    "        model = nn.Sequential(self.l1, self.l2)  # creating a model with the given layers\n",
    "        return model(x)\n"
   ]
  },
  {
   "cell_type": "code",
   "execution_count": null,
   "metadata": {
    "ExecuteTime": {
     "end_time": "2019-06-06T14:48:16.840784Z",
     "start_time": "2019-06-06T14:44:10.092241Z"
    }
   },
   "outputs": [],
   "source": [
    "# Parameters\n",
    "steps = 2000\n",
    "epsilon = 0.3\n",
    "gamma = 0.99\n",
    "loss_history = []\n",
    "reward_history = []\n",
    "episodes = 1000\n",
    "max_position = -0.4\n",
    "learning_rate = 0.03\n",
    "successes = 0\n",
    "position = []\n",
    "\n",
    "# Initialize Policy\n",
    "env = gym.make('MountainCar-v0')\n",
    "state = env.reset()\n",
    "pol = policy()\n",
    "loss_fn = nn.MSELoss()\n",
    "optimizer = optim.SGD(pol.parameters(), lr=learning_rate)\n",
    "scheduler = optim.lr_scheduler.StepLR(optimizer, step_size=1, gamma=0.9)"
   ]
  },
  {
   "cell_type": "code",
   "execution_count": null,
   "metadata": {
    "ExecuteTime": {
     "end_time": "2019-06-06T14:48:16.840784Z",
     "start_time": "2019-06-06T14:44:10.092241Z"
    }
   },
   "outputs": [],
   "source": [
    "for episode in range(episodes):\n",
    "    episode_loss = 0\n",
    "    episode_reward = 0\n",
    "    state = env.reset()\n",
    "\n",
    "    for s in range(steps):\n",
    "        if episode % 200 == 0 and episode > 0:\n",
    "            env.render()\n",
    "        \n",
    "        # Get first action value function\n",
    "        Q = pol(Variable(torch.from_numpy(state).type(torch.FloatTensor)))\n",
    "        \n",
    "        # Choose epsilon-greedy action\n",
    "        if np.random.rand(1) < epsilon:\n",
    "            action = np.random.randint(0,3)\n",
    "        else:\n",
    "            _, action = torch.max(Q, -1)\n",
    "            action = action.item()\n",
    "        \n",
    "        # Step forward and receive next state and reward\n",
    "        new_state, reward, done, _ = env.step(action)\n",
    "        \n",
    "        new_Q = pol(Variable(torch.from_numpy(new_state).type(torch.FloatTensor)))\n",
    "        max_new_Q, _ = torch.max(new_Q, -1)\n",
    "        \n",
    "        # Create target Q value for training the policy\n",
    "        Q_target = Q.clone()\n",
    "        Q_target = Variable(Q_target.data)\n",
    "        Q_target[action] = reward + torch.mul(max_new_Q.detach(), gamma)\n",
    "        \n",
    "        # Calculate loss\n",
    "        loss = loss_fn(Q, Q_target)\n",
    "        \n",
    "        # Update policy\n",
    "        pol.zero_grad()\n",
    "        loss.backward()\n",
    "        optimizer.step()\n",
    "\n",
    "        # Record history\n",
    "        episode_loss += loss.item()\n",
    "        episode_reward += reward\n",
    "        \n",
    "        # Keep track of max position\n",
    "        if new_state[0] > max_position:\n",
    "            max_position = new_state[0]\n",
    "        \n",
    "        if done:\n",
    "            if new_state[0] >= 0.5:\n",
    "                print(\"Success at episode \", ep)\n",
    "                epsilon *= .99                 # Adjust epsilon\n",
    "                scheduler.step()                # Adjust learning rate\n",
    "                successes += 1                # Record successful episode\n",
    "                \n",
    "            # Record history\n",
    "            loss_history.append(episode_loss)\n",
    "            reward_history.append(episode_reward)\n",
    "            weights = np.sum(np.abs(pol.l2.weight.data.numpy()))+np.sum(np.abs(pol.l1.weight.data.numpy()))\n",
    "            position.append(new_state[0])\n",
    "\n",
    "            break\n",
    "        else:\n",
    "            state = new_state\n",
    "            \n",
    "print('successful episodes: {}'.format(successes))"
   ]
  },
  {
   "cell_type": "code",
   "execution_count": null,
   "metadata": {},
   "outputs": [],
   "source": []
  },
  {
   "cell_type": "code",
   "execution_count": null,
   "metadata": {},
   "outputs": [],
   "source": []
  }
 ],
 "metadata": {
  "kernelspec": {
   "display_name": "Python 3",
   "language": "python",
   "name": "python3"
  },
  "language_info": {
   "codemirror_mode": {
    "name": "ipython",
    "version": 3
   },
   "file_extension": ".py",
   "mimetype": "text/x-python",
   "name": "python",
   "nbconvert_exporter": "python",
   "pygments_lexer": "ipython3",
   "version": "3.6.8"
  }
 },
 "nbformat": 4,
 "nbformat_minor": 2
}
